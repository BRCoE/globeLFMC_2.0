{
 "cells": [
  {
   "cell_type": "code",
   "execution_count": null,
   "metadata": {},
   "outputs": [],
   "source": [
    "import xarray as xr\n",
    "import pandas as pd\n",
    "import glob\n",
    "import numpy as np\n",
    "from datetime import datetime, timedelta"
   ]
  },
  {
   "cell_type": "markdown",
   "metadata": {},
   "source": [
    "## Extraction of meteorological data on the day of sampling"
   ]
  },
  {
   "cell_type": "code",
   "execution_count": null,
   "metadata": {},
   "outputs": [],
   "source": [
    "path_to_db_folder = '' #string path to folder where database is\n",
    "ds = pd.read_excel('{0}\\\\Globe-LFMC-2.0.xlsx'.format(path_to_db_folder), sheet_name='LFMC data')\n",
    "globelfmc = ds.copy()\n",
    "globelfmc"
   ]
  },
  {
   "cell_type": "code",
   "execution_count": null,
   "metadata": {},
   "outputs": [],
   "source": [
    "start_char_date = -22\n",
    "end_char_date = -14\n",
    "\n",
    "main_path = '' #string path to folder with AgERA5 variables folders\n",
    "\n",
    "folders = ['Precipitation-Flux','Relative-Humidity-2m-06h','Relative-Humidity-2m-09h','Relative-Humidity-2m-12h','Relative-Humidity-2m-15h','Temperature-Air-2m-Max-24h','Temperature-Air-2m-Mean-24h','Vapour-Pressure-Mean','Wind-Speed-10m-Mean','Dew-Point-Temperature-2m-Mean'] "
   ]
  },
  {
   "cell_type": "code",
   "execution_count": null,
   "metadata": {},
   "outputs": [],
   "source": [
    "for folder_name in folders:\n",
    "    path_to_files_with_star = '{0}\\\\{1}\\\\*'.format(main_path, folder_name) \n",
    "\n",
    "    var_name = folder_name.replace('-','_')\n",
    "\n",
    "    globelfmc[var_name] = np.nan\n",
    "\n",
    "    for f in glob.glob(path_to_files_with_star):\n",
    "\n",
    "        date_str = f[start_char_date:end_char_date]\n",
    "        print(var_name, date_str)\n",
    "\n",
    "        date = datetime.strptime(date_str, '%Y%m%d')\n",
    "\n",
    "        if date in list(globelfmc['Sampling date (YYYYMMDD)']):\n",
    "\n",
    "            nc_var = xr.open_dataset(f)\n",
    "\n",
    "            sub_sites = sorted(set(globelfmc.loc[globelfmc['Sampling date (YYYYMMDD)']==date,'Site name']))\n",
    "\n",
    "            for site in sub_sites:\n",
    "\n",
    "                lat = globelfmc.loc[globelfmc['Site name']==site,'Latitude (WGS84, EPSG:4326)'].values[0]\n",
    "                lon = globelfmc.loc[globelfmc['Site name']==site,'Longitude (WGS84, EPSG:4326)'].values[0]\n",
    "\n",
    "                value = nc_var.sel(lat=lat, lon=lon, method='nearest')[var_name].data[0]\n",
    "\n",
    "                globelfmc.loc[(globelfmc['Sampling date (YYYYMMDD)']==date) & (globelfmc['Site name']==site), var_name] = value\n",
    "                \n",
    "        \n",
    "    globelfmc.to_csv('{0}\\\\Globe-LFMC-2.0_AgERA5_up to {1}.csv'.format(path_to_db_folder, var_name), index=False)\n",
    "\n",
    "\n",
    "globelfmc.to_csv('{0}\\\\Globe-LFMC-2.0_AgERA5.csv'.format(path_to_db_folder), index=False)"
   ]
  },
  {
   "cell_type": "markdown",
   "metadata": {},
   "source": [
    "## Extraction of cumulative precipitation data"
   ]
  },
  {
   "cell_type": "code",
   "execution_count": null,
   "metadata": {},
   "outputs": [],
   "source": [
    "checkpoint_folder = '' # path to folder where to save checkpoint files\n",
    "checkpoint_path = glob.glob('{0}\\\\CHECKPOINT cumulative rain_*.xlsx'.format(checkpoint_folder))\n",
    "\n",
    "if len(checkpoint_path) > 0:\n",
    "    latest = sorted(checkpoint_path)[-1]\n",
    "    print(latest)\n",
    "\n",
    "    ds = pd.read_excel(latest)\n",
    "    globelfmc = ds.copy()\n",
    "    del ds\n",
    "\n",
    "    year_to_start = int(latest[-9:-5]) + 1\n",
    "    print(year_to_start)\n",
    "\n",
    "else:\n",
    "    ds = pd.read_excel('{0}\\\\Globe-LFMC-2.0.xlsx'.format(path_to_db_folder), sheet_name='LFMC data')  \n",
    "    globelfmc = ds.copy()\n",
    "    del ds\n",
    "\n",
    "    year_to_start = 1979 #first available year of AgERA5\n",
    "\n",
    "    globelfmc['Precipitation_3days'] = 0\n",
    "    globelfmc['Precipitation_1week'] = 0\n",
    "    globelfmc['Precipitation_4weeks'] = 0\n",
    "    globelfmc['Precipitation_12weeks'] = 0"
   ]
  },
  {
   "cell_type": "code",
   "execution_count": null,
   "metadata": {},
   "outputs": [],
   "source": [
    "start_char_date = -22\n",
    "end_char_date = -14\n",
    "\n",
    "main_path = '' #string path to folder with AgERA5 variables folders\n",
    "\n",
    "path_to_rain_files = main_path+'\\\\Precipitation-Flux\\\\Precipitation-Flux_C3S-glob-agric_AgERA5_{}_final-v1.0.nc'\n",
    "path_to_rain_folder = main_path+'\\\\Precipitation-Flux\\\\*.nc'"
   ]
  },
  {
   "cell_type": "code",
   "execution_count": null,
   "metadata": {},
   "outputs": [],
   "source": [
    "start_char_year = -22\n",
    "end_char_year = -18\n",
    "\n",
    "threshold_3day = (datetime(1979,1,1)+timedelta(days=3))\n",
    "threshold_1week = (datetime(1979,1,1)+timedelta(days=7))\n",
    "threshold_4weeks = (datetime(1979,1,1)+timedelta(days=28))\n",
    "threshold_12weeks = (datetime(1979,1,1)+timedelta(days=84))\n",
    "\n",
    "for year in range(year_to_start, 2023+1):\n",
    "    list_rain_files = [f for f in glob.glob(path_to_rain_folder) if int(f[start_char_year:end_char_year])==year]\n",
    "\n",
    "    for rain_file in list_rain_files:\n",
    "        rain_date_str = rain_file[start_char_date:end_char_date]\n",
    "        rain_date = datetime.strptime(rain_date_str, '%Y%m%d')\n",
    "        print(rain_date_str)\n",
    "        \n",
    "        nc_rain = xr.open_dataset(rain_file)\n",
    "        \n",
    "        for n in range(1,84+1):\n",
    "            d_future = rain_date+timedelta(days=n)\n",
    "            sub_sites = sorted(set(globelfmc.loc[globelfmc['Sampling date (YYYYMMDD)']==d_future,'Site name']))\n",
    "\n",
    "            if len(sub_sites) > 0:\n",
    "                for site in sub_sites:\n",
    "\n",
    "                    lat = globelfmc.loc[globelfmc['Site name']==site,'Latitude (WGS84, EPSG:4326)'].values[0]\n",
    "                    lon = globelfmc.loc[globelfmc['Site name']==site,'Longitude (WGS84, EPSG:4326)'].values[0]\n",
    "                    rain_value = nc_rain.sel(lat=lat, lon=lon, method='nearest')['Precipitation_Flux'].data[0]\n",
    "\n",
    "                    if n in range(1,3+1): # 3 days\n",
    "                        globelfmc.loc[(globelfmc['Sampling date (YYYYMMDD)']==d_future) & (globelfmc['Site name']==site),'Precipitation_3days'] += rain_value\n",
    "                        globelfmc.loc[(globelfmc['Sampling date (YYYYMMDD)']==d_future) & (globelfmc['Site name']==site),'Precipitation_1week'] += rain_value\n",
    "                        globelfmc.loc[(globelfmc['Sampling date (YYYYMMDD)']==d_future) & (globelfmc['Site name']==site),'Precipitation_4weeks'] += rain_value\n",
    "                        globelfmc.loc[(globelfmc['Sampling date (YYYYMMDD)']==d_future) & (globelfmc['Site name']==site),'Precipitation_12weeks'] += rain_value\n",
    "                    \n",
    "                    elif n in range(4,7+1): # 1 week\n",
    "                        globelfmc.loc[(globelfmc['Sampling date (YYYYMMDD)']==d_future) & (globelfmc['Site name']==site),'Precipitation_1week'] += rain_value\n",
    "                        globelfmc.loc[(globelfmc['Sampling date (YYYYMMDD)']==d_future) & (globelfmc['Site name']==site),'Precipitation_4weeks'] += rain_value\n",
    "                        globelfmc.loc[(globelfmc['Sampling date (YYYYMMDD)']==d_future) & (globelfmc['Site name']==site),'Precipitation_12weeks'] += rain_value\n",
    "\n",
    "                    elif n in range(8,28+1): # 4 weeks\n",
    "                        globelfmc.loc[(globelfmc['Sampling date (YYYYMMDD)']==d_future) & (globelfmc['Site name']==site),'Precipitation_4weeks'] += rain_value\n",
    "                        globelfmc.loc[(globelfmc['Sampling date (YYYYMMDD)']==d_future) & (globelfmc['Site name']==site),'Precipitation_12weeks'] += rain_value\n",
    "\n",
    "                    elif n in range(29,84+1): # 12 weeks\n",
    "                        globelfmc.loc[(globelfmc['Sampling date (YYYYMMDD)']==d_future) & (globelfmc['Site name']==site),'Precipitation_12weeks'] += rain_value\n",
    "\n",
    "\n",
    "    globelfmc.loc[(globelfmc['Sampling date (YYYYMMDD)']<threshold_3day),'Precipitation_3days'] = 'NA'\n",
    "    globelfmc.loc[(globelfmc['Sampling date (YYYYMMDD)']<threshold_1week),'Precipitation_1week'] = 'NA'\n",
    "    globelfmc.loc[(globelfmc['Sampling date (YYYYMMDD)']<threshold_4weeks),'Precipitation_4weeks'] = 'NA'\n",
    "    globelfmc.loc[(globelfmc['Sampling date (YYYYMMDD)']<threshold_12weeks),'Precipitation_12weeks'] = 'NA'\n",
    "\n",
    "    globelfmc.to_excel('{0}\\\\CHECKPOINT cumulative rain_{1}.xlsx'.format(checkpoint_folder,year), index=False)\n",
    "\n",
    "\n",
    "\n",
    "globelfmc.to_csv('{0}\\\\Globe-LFMC-2.0_AgERA5 cumulative rain_final.csv'.format(path_to_db_folder), index=False)            \n",
    "\n"
   ]
  }
 ],
 "metadata": {
  "language_info": {
   "name": "python"
  },
  "orig_nbformat": 4
 },
 "nbformat": 4,
 "nbformat_minor": 2
}
