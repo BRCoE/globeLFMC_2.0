{
 "cells": [
  {
   "cell_type": "code",
   "execution_count": null,
   "metadata": {},
   "outputs": [],
   "source": [
    "import xarray as xr\n",
    "import numpy as np\n",
    "import pandas as pd\n",
    "from osgeo import gdal\n",
    "import glob\n",
    "import netCDF4\n",
    "from datetime import datetime"
   ]
  },
  {
   "cell_type": "markdown",
   "metadata": {},
   "source": [
    "## Mosaic tiles"
   ]
  },
  {
   "cell_type": "code",
   "execution_count": null,
   "metadata": {},
   "outputs": [],
   "source": [
    "path_folder_tiles = ''\n",
    "output_folder_path = ''"
   ]
  },
  {
   "cell_type": "code",
   "execution_count": null,
   "metadata": {},
   "outputs": [],
   "source": [
    "tile_path = path_folder_tiles+'\\\\MCD12Q1.A{0}001.{1}.*.*.hdf'\n",
    "\n",
    "tiles_interest = ['h{}v{}'.format(str(h).zfill(2),str(v).zfill(2)) for h in range(36) for v in range(18)]\n",
    "\n",
    "wgs84_wkt = 'GEOGCS[\"WGS 84\",DATUM[\"WGS_1984\",SPHEROID[\"WGS 84\",6378137,298.257223563,AUTHORITY[\"EPSG\",\"7030\"]],AUTHORITY[\"EPSG\",\"6326\"]],PRIMEM[\"Greenwich\",0,AUTHORITY[\"EPSG\",\"8901\"]],UNIT[\"degree\",0.01745329251994328,AUTHORITY[\"EPSG\",\"9122\"]],AUTHORITY[\"EPSG\",\"4326\"]]'\n",
    "\n",
    "tile_size = 2400\n",
    "\n",
    "lat_max = 80.\n",
    "lat_min = -80.\n",
    "lon_max = 180.\n",
    "lon_min = -180.\n",
    "\n",
    "res = 0.005\n",
    "\n",
    "x_size = int((lon_max - lon_min)/res)\n",
    "y_size = int((lat_max - lat_min)/res)\n",
    "\n",
    "geot = [lon_min - res/2, res, 0., lat_max + res/2, 0., -1*res] "
   ]
  },
  {
   "cell_type": "code",
   "execution_count": null,
   "metadata": {},
   "outputs": [],
   "source": [
    "\n",
    "for year in range(2001,2023):\n",
    "\n",
    "    dst = gdal.GetDriverByName('MEM').Create('', x_size, y_size, 1, gdal.GDT_Int16)\n",
    "    dst.GetRasterBand(1).WriteArray(np.ones((y_size, x_size), dtype=np.int16) * np.nan)\n",
    "    dst.SetGeoTransform(geot)\n",
    "    dst.SetProjection(wgs84_wkt)\n",
    "\n",
    "    for tile in tiles_interest:\n",
    "        print(year, tile)\n",
    "\n",
    "        fname_list = glob.glob(tile_path.format(year,tile))\n",
    "        \n",
    "        if len(fname_list) > 0 :\n",
    "            fname = fname_list[0]\n",
    "\n",
    "            tile = xr.open_dataset(fname,engine='netcdf4')\n",
    "\n",
    "            tile_gdal = gdal.Open('HDF4_EOS:EOS_GRID:\"{}\":MCD12Q1:LC_Type1'.format(fname))  \n",
    "\n",
    "            src = gdal.GetDriverByName('MEM').Create('', tile_size, tile_size, 1, gdal.GDT_Int16)\n",
    "            src.SetGeoTransform(tile_gdal.GetGeoTransform())\n",
    "            src.SetProjection(tile_gdal.GetProjection())\n",
    "            src.GetRasterBand(1).WriteArray(tile.LC_Type1.data)\n",
    "\n",
    "            gdal.ReprojectImage(src, dst, None, None, gdal.GRA_NearestNeighbour)\n",
    "\n",
    "            del src\n",
    "\n",
    "    with netCDF4.Dataset('{}\\\\world_LC-IGBP_modis_mosaic_{}.nc'.format(output_folder_path, year), 'w', format='NETCDF4_CLASSIC') as ds:\n",
    "\n",
    "        t_dim = ds.createDimension('time', 1)\n",
    "        x_dim = ds.createDimension('longitude', x_size)\n",
    "        y_dim = ds.createDimension('latitude', y_size)\n",
    "\n",
    "        time_var = ds.createVariable('time', 'f8', ('time',))\n",
    "        time_var[:] = netCDF4.date2num([datetime(year,1,1)], units='seconds since 1970-01-01 00:00:00.0', calendar='standard')\n",
    "\n",
    "        lon_var = ds.createVariable('longitude', 'f8', ('longitude',))\n",
    "        lon_var[:] = np.linspace(lon_min, lon_max-res, num=x_size)\n",
    "        \n",
    "        lat_var = ds.createVariable('latitude', 'f8', ('latitude',))\n",
    "        lat_var[:] = np.linspace(lat_max, lat_min+res, num=y_size)\n",
    "        \n",
    "        lc_var = ds.createVariable('MCD12Q1:LC_Type1', 'i4', ('time', 'latitude', 'longitude'), fill_value=-9999)\n",
    "        lc_var[:] = dst.GetRasterBand(1).ReadAsArray()\n",
    "\n",
    "    del dst\n",
    "\n"
   ]
  },
  {
   "cell_type": "code",
   "execution_count": null,
   "metadata": {},
   "outputs": [],
   "source": []
  },
  {
   "cell_type": "markdown",
   "metadata": {},
   "source": [
    "## Extract LC data"
   ]
  },
  {
   "cell_type": "code",
   "execution_count": null,
   "metadata": {},
   "outputs": [],
   "source": [
    "path_to_db_folder = '' #string path to folder where database is\n",
    "ds = pd.read_excel('{0}\\\\Globe-LFMC-2.0.xlsx'.format(path_to_db_folder), sheet_name='LFMC data')"
   ]
  },
  {
   "cell_type": "code",
   "execution_count": null,
   "metadata": {},
   "outputs": [],
   "source": [
    "globelfmc = ds.copy()\n",
    "globelfmc"
   ]
  },
  {
   "cell_type": "code",
   "execution_count": null,
   "metadata": {},
   "outputs": [],
   "source": [
    "def year_lc(year): \n",
    "\n",
    "    if year < 2001:\n",
    "        year = 2001\n",
    "\n",
    "    elif year > 2022:\n",
    "        year = 2022\n",
    "\n",
    "    return year"
   ]
  },
  {
   "cell_type": "code",
   "execution_count": null,
   "metadata": {},
   "outputs": [],
   "source": [
    "globelfmc['IGBP Land Cover'] = np.nan\n",
    "globelfmc['IGBP Land Cover ID'] = np.nan\n",
    "globelfmc['Year of Land Cover'] = globelfmc['Sampling date (YYYYMMDD)'].map(lambda x: year_lc(x.year))"
   ]
  },
  {
   "cell_type": "code",
   "execution_count": null,
   "metadata": {},
   "outputs": [],
   "source": [
    "lc_names = {1:'Evergreen Needleleaf Forests',\n",
    "            2:'Evergreen Broadleaf Forests',\n",
    "            3:'Deciduous Needleleaf Forests',\n",
    "            4:'Deciduous Broadleaf Forests',\n",
    "            5:'Mixed Forests',\n",
    "            6:'Closed Shrublands',\n",
    "            7:'Open Shrublands',\n",
    "            8:'Woody Savannas',\n",
    "            9:'Savannas',\n",
    "            10:'Grasslands',\n",
    "            11:'Permanent Wetlands',\n",
    "            12:'Croplands',\n",
    "            13:'Urban and Built-up Lands',\n",
    "            14:'Cropland/Natural Vegetation Mosaics',\n",
    "            15:'Permanent Snow and Ice',\n",
    "            16:'Barren',\n",
    "            17:'Water Bodies'\n",
    "            }\n"
   ]
  },
  {
   "cell_type": "code",
   "execution_count": null,
   "metadata": {},
   "outputs": [],
   "source": [
    "path_to_lc_mosaics = '' #mosaics are NetCDF files in lat/lon (WGS84), with 0.005 degrees resolution, dimensions: longitude from -180 to 179.995, latitude from -80 to 79.995\n",
    "\n",
    "for year in range(2001,2023):\n",
    "    print(year)\n",
    "\n",
    "    lc = xr.open_dataset('{0}\\\\world_LC-IGBP_modis_mosaic_{1}.nc'.format(path_to_lc_mosaics,year))\n",
    "\n",
    "    sub_sites = sorted(set(globelfmc.loc[globelfmc['Year of Land Cover']==year,'Site name']))\n",
    "\n",
    "    for site in sub_sites:\n",
    "\n",
    "        lat = globelfmc.loc[globelfmc['Site name']==site,'Latitude (WGS84, EPSG:4326)'].values[0]\n",
    "        lon = globelfmc.loc[globelfmc['Site name']==site,'Longitude (WGS84, EPSG:4326)'].values[0]\n",
    "\n",
    "        lc_value = lc.sel(latitude=lat, longitude=lon, method='nearest')['MCD12Q1:LC_Type1'].data[0]\n",
    "\n",
    "        globelfmc.loc[(globelfmc['Year of Land Cover']==year) & (globelfmc['Site name']==site),'IGBP Land Cover ID'] = lc_value\n",
    "\n",
    "        if lc_value in lc_names:\n",
    "            globelfmc.loc[(globelfmc['Year of Land Cover']==year) & (globelfmc['Site name']==site),'IGBP Land Cover'] = lc_names[lc_value]\n",
    "        else:\n",
    "            globelfmc.loc[(globelfmc['Year of Land Cover']==year) & (globelfmc['Site name']==site),'IGBP Land Cover'] = 'Unclassified'\n",
    "\n",
    "    globelfmc.to_csv('{0}\\\\Globe-LFMC-2.0_LC_up to {1}.csv'.format(path_to_db_folder, year), index=False)"
   ]
  },
  {
   "cell_type": "code",
   "execution_count": null,
   "metadata": {},
   "outputs": [],
   "source": []
  }
 ],
 "metadata": {
  "kernelspec": {
   "display_name": "RS",
   "language": "python",
   "name": "python3"
  },
  "language_info": {
   "codemirror_mode": {
    "name": "ipython",
    "version": 3
   },
   "file_extension": ".py",
   "mimetype": "text/x-python",
   "name": "python",
   "nbconvert_exporter": "python",
   "pygments_lexer": "ipython3",
   "version": "3.9.7"
  },
  "orig_nbformat": 4
 },
 "nbformat": 4,
 "nbformat_minor": 2
}
