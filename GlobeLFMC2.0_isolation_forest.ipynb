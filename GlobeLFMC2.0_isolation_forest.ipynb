{
 "cells": [
  {
   "cell_type": "code",
   "execution_count": null,
   "metadata": {},
   "outputs": [],
   "source": [
    "from sklearn.ensemble import IsolationForest\n",
    "import pandas as pd\n",
    "import numpy as np\n",
    "from datetime import datetime\n",
    "import random"
   ]
  },
  {
   "cell_type": "markdown",
   "metadata": {},
   "source": [
    "## Open the database and set up for running the algorithm "
   ]
  },
  {
   "cell_type": "code",
   "execution_count": null,
   "metadata": {},
   "outputs": [],
   "source": [
    "path_to_db_folder = '' #string path to folder where database is\n",
    "ds = pd.read_excel('{0}\\\\Globe-LFMC-2.0.xlsx'.format(path_to_db_folder), sheet_name='LFMC data')"
   ]
  },
  {
   "cell_type": "code",
   "execution_count": null,
   "metadata": {},
   "outputs": [],
   "source": [
    "globelfmc = ds.copy()\n",
    "del ds\n",
    "globelfmc = globelfmc.dropna(subset=['LFMC value (%)']) # in case there are empty rows in the spreadsheet\n",
    "globelfmc = globelfmc.sort_values(by=['Sorting ID']) # sort using ID column"
   ]
  },
  {
   "cell_type": "code",
   "execution_count": null,
   "metadata": {},
   "outputs": [],
   "source": [
    "# transform dates in timestamps to use as input in the statistical model\n",
    "globelfmc['timestamp'] = pd.to_datetime(globelfmc['Sampling date (YYYYMMDD)'].values).map(lambda x: pd.Timestamp(x).timestamp())"
   ]
  },
  {
   "cell_type": "code",
   "execution_count": null,
   "metadata": {},
   "outputs": [],
   "source": [
    "# in case there are spaces at beginning or end\n",
    "globelfmc['Species collected nospace'] = globelfmc['Species collected'].str.strip()"
   ]
  },
  {
   "cell_type": "code",
   "execution_count": null,
   "metadata": {},
   "outputs": [],
   "source": [
    "list_rand = list()\n",
    "for _ in range(5):\n",
    "    i = random.randint(0,100)\n",
    "    list_rand.append(i)\n",
    "\n",
    "\n",
    "# the output when it was first run is:\n",
    "list_rand=[67, 99, 1, 23, 25]"
   ]
  },
  {
   "cell_type": "code",
   "execution_count": null,
   "metadata": {},
   "outputs": [],
   "source": [
    "# create new columns\n",
    "\n",
    "for i in list_rand:\n",
    "    globelfmc['Isolated iforest with LFMC {}'.format(i)] = np.nan\n",
    "\n",
    "for i in list_rand:\n",
    "    globelfmc['Isolated iforest no LFMC {}'.format(i)] = np.nan\n",
    "\n",
    "for i in list_rand:\n",
    "    globelfmc['Scores iforest with LFMC {}'.format(i)] = np.nan\n",
    "\n",
    "for i in list_rand:\n",
    "    globelfmc['Scores iforest no LFMC {}'.format(i)] = np.nan\n",
    "\n"
   ]
  },
  {
   "cell_type": "markdown",
   "metadata": {},
   "source": [
    "## Run Isolation Forest for each species/species combination subset"
   ]
  },
  {
   "cell_type": "code",
   "execution_count": null,
   "metadata": {},
   "outputs": [],
   "source": [
    "species_list = sorted(set(globelfmc['Species collected nospace']))\n",
    "len_species = len(species_list)\n",
    "\n",
    "for i,species in enumerate(species_list):\n",
    "    print(i+1, len_species, species)\n",
    "\n",
    "    lfmc_data = globelfmc.loc[(globelfmc['Species collected nospace']==species), ['timestamp','Latitude (WGS84, EPSG:4326)','Longitude (WGS84, EPSG:4326)','LFMC value (%)']]  \n",
    "    no_lfmc_data = globelfmc.loc[(globelfmc['Species collected nospace']==species), ['timestamp','Latitude (WGS84, EPSG:4326)','Longitude (WGS84, EPSG:4326)']] \n",
    "\n",
    "    samples_n = round(len(lfmc_data.index)/100*75) \n",
    "    print(samples_n)\n",
    "\n",
    "    for rand_i in list_rand:\n",
    "    \n",
    "        iforest_lfmc = IsolationForest(n_estimators=10000, max_samples=samples_n, contamination=0.05, max_features=4, bootstrap=True, n_jobs=-1, random_state=rand_i)  \n",
    "        isolated_IF_lfmc = iforest_lfmc.fit_predict(lfmc_data)\n",
    "        globelfmc.loc[(globelfmc['Species collected nospace']==species), 'Isolated iforest with LFMC {}'.format(rand_i)] = isolated_IF_lfmc\n",
    "        globelfmc.loc[(globelfmc['Species collected nospace']==species), 'Scores iforest with LFMC {}'.format(rand_i)] = iforest_lfmc.score_samples(lfmc_data)\n",
    "\n",
    "        iforest_no_lfmc = IsolationForest(n_estimators=10000, max_samples=samples_n, contamination=0.05, max_features=3, bootstrap=True, n_jobs=-1, random_state=rand_i)  \n",
    "        isolated_IF_no_lfmc = iforest_no_lfmc.fit_predict(no_lfmc_data)\n",
    "        globelfmc.loc[(globelfmc['Species collected nospace']==species), 'Isolated iforest no LFMC {}'.format(rand_i)] = isolated_IF_no_lfmc\n",
    "        globelfmc.loc[(globelfmc['Species collected nospace']==species), 'Scores iforest no LFMC {}'.format(rand_i)] = iforest_no_lfmc.score_samples(no_lfmc_data)\n",
    "\n",
    "        "
   ]
  },
  {
   "cell_type": "code",
   "execution_count": null,
   "metadata": {},
   "outputs": [],
   "source": [
    "# sum results all models with different random states\n",
    "globelfmc['Sum iforest with LFMC'] = globelfmc[['Isolated iforest with LFMC {}'.format(i) for i in list_rand]].sum(axis=1)\n",
    "globelfmc['Sum iforest no LFMC'] = globelfmc[['Isolated iforest no LFMC {}'.format(i) for i in list_rand]].sum(axis=1)"
   ]
  },
  {
   "cell_type": "code",
   "execution_count": null,
   "metadata": {},
   "outputs": [],
   "source": [
    "# assign TRUE or FALSE if isolated\n",
    "globelfmc['Isolated iforest final'] = np.nan\n",
    "globelfmc.loc[(globelfmc['Sum iforest with LFMC']==-5) & (globelfmc['Sum iforest no LFMC']>-5), 'Isolated iforest final'] = 'TRUE'\n",
    "globelfmc.loc[(pd.isna(globelfmc['Isolated iforest final'])), 'Isolated iforest final'] = 'FALSE'"
   ]
  },
  {
   "cell_type": "code",
   "execution_count": null,
   "metadata": {},
   "outputs": [],
   "source": [
    "# assign TRUE or FALSE if isolated regardless of LFMC (might be needed for combining methods anomaly detection)\n",
    "globelfmc['Isolated iforest no LFMC'] = np.nan\n",
    "globelfmc.loc[globelfmc['Sum iforest no LFMC']==-5, 'Isolated iforest no LFMC'] = 'TRUE'\n",
    "globelfmc.loc[(pd.isna(globelfmc['Isolated iforest no LFMC'])), 'Isolated iforest no LFMC'] = 'FALSE'"
   ]
  },
  {
   "cell_type": "markdown",
   "metadata": {},
   "source": [
    "## Save output"
   ]
  },
  {
   "cell_type": "code",
   "execution_count": null,
   "metadata": {},
   "outputs": [],
   "source": [
    "globelfmc.to_excel('{}\\\\Globe-LFMC-2.0_outliers_IF.xlsx'.format(path_to_db_folder), index=False)"
   ]
  },
  {
   "cell_type": "code",
   "execution_count": null,
   "metadata": {},
   "outputs": [],
   "source": []
  }
 ],
 "metadata": {
  "language_info": {
   "name": "python"
  },
  "orig_nbformat": 4
 },
 "nbformat": 4,
 "nbformat_minor": 2
}
