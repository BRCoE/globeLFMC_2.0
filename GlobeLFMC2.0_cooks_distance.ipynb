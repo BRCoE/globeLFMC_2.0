{
 "cells": [
  {
   "cell_type": "code",
   "execution_count": null,
   "metadata": {},
   "outputs": [],
   "source": [
    "import statsmodels.api as sm\n",
    "import pandas as pd\n",
    "import numpy as np"
   ]
  },
  {
   "cell_type": "markdown",
   "metadata": {},
   "source": [
    "## Open the database and set up for running the algorithm "
   ]
  },
  {
   "cell_type": "code",
   "execution_count": null,
   "metadata": {},
   "outputs": [],
   "source": [
    "path_to_db_folder = '' #string path to folder where database is\n",
    "ds = pd.read_excel('{0}\\\\Globe-LFMC-2.0.xlsx'.format(path_to_db_folder), sheet_name='LFMC data')"
   ]
  },
  {
   "cell_type": "code",
   "execution_count": null,
   "metadata": {},
   "outputs": [],
   "source": [
    "globelfmc = ds.copy()\n",
    "del ds\n",
    "globelfmc = globelfmc.sort_values(by=['Sorting ID'])\n",
    "globelfmc = globelfmc.dropna(subset=['LFMC value (%)']) # in case there are empty rows in the spreadsheet"
   ]
  },
  {
   "cell_type": "code",
   "execution_count": null,
   "metadata": {},
   "outputs": [],
   "source": [
    "# transform dates in timestamps to use as input in the statistical model\n",
    "globelfmc['timestamp'] = pd.to_datetime(globelfmc['Sampling date (YYYYMMDD)'].values).map(lambda x: pd.Timestamp(x).timestamp())"
   ]
  },
  {
   "cell_type": "code",
   "execution_count": null,
   "metadata": {},
   "outputs": [],
   "source": [
    "# in case there are spaces at beginning or end\n",
    "globelfmc['Species collected nospace'] = globelfmc['Species collected'].str.strip()\n",
    "globelfmc['Site name nospace'] = globelfmc['Site name'].str.strip()"
   ]
  },
  {
   "cell_type": "code",
   "execution_count": null,
   "metadata": {},
   "outputs": [],
   "source": [
    "# columns with Cook's Distance\n",
    "\n",
    "globelfmc['Above 4/n Cook Distance'] = np.nan\n",
    "globelfmc['Above 3xMean Cook Distance'] = np.nan\n",
    "globelfmc['Cook Distance'] = np.nan\n",
    "globelfmc['Mean Cook Distance'] = np.nan\n",
    "globelfmc['3x mean Cook Distance'] = np.nan\n",
    "globelfmc['n for Cook Distance'] = np.nan\n",
    "globelfmc['4/n for Cook Distance'] = np.nan"
   ]
  },
  {
   "cell_type": "markdown",
   "metadata": {},
   "source": [
    "## Run algorithm and fill columns"
   ]
  },
  {
   "cell_type": "code",
   "execution_count": null,
   "metadata": {},
   "outputs": [],
   "source": [
    "sites = sorted(set(globelfmc['Site name nospace']))\n",
    "len_sites = len(sites)\n",
    "\n",
    "for i,site in enumerate(sites):\n",
    "    print(i+1, len_sites)\n",
    "    species_list = sorted(set(globelfmc.loc[globelfmc['Site name nospace'] ==  site, 'Species collected nospace']))\n",
    "\n",
    "    for species in species_list:\n",
    "        \n",
    "        Y = globelfmc.loc[(globelfmc['Site name nospace']==site) & (globelfmc['Species collected nospace']==species), 'LFMC value (%)']\n",
    "        X = globelfmc.loc[(globelfmc['Site name nospace']==site) & (globelfmc['Species collected nospace']==species), 'timestamp']\n",
    "        X = sm.add_constant(X) \n",
    "\n",
    "        n = len(X)\n",
    "\n",
    "        globelfmc.loc[(globelfmc['Site name nospace']==site) & (globelfmc['Species collected nospace']==species), 'n for Cook Distance'] = n\n",
    "        globelfmc.loc[(globelfmc['Site name nospace']==site) & (globelfmc['Species collected nospace']==species), '4/n for Cook Distance'] = 4/n\n",
    "\n",
    "        ols = sm.OLS(Y,X).fit()\n",
    "        cooks_d = ols.get_influence().cooks_distance\n",
    "\n",
    "        globelfmc.loc[(globelfmc['Site name nospace']==site) & (globelfmc['Species collected nospace']==species), 'Cook Distance'] = cooks_d[0] #first array is actual cook's distance, second array is p values\n",
    "        globelfmc.loc[(globelfmc['Site name nospace']==site) & (globelfmc['Species collected nospace']==species), 'Mean Cook Distance'] = np.mean(cooks_d[0])\n",
    "        globelfmc.loc[(globelfmc['Site name nospace']==site) & (globelfmc['Species collected nospace']==species), '3x mean Cook Distance'] = 3 * np.mean(cooks_d[0])\n",
    "\n",
    "        out_bool_4n = cooks_d[0] > globelfmc.loc[(globelfmc['Site name nospace']==site) & (globelfmc['Species collected nospace']==species), '4/n for Cook Distance']\n",
    "        globelfmc.loc[(globelfmc['Site name nospace']==site) & (globelfmc['Species collected nospace']==species), 'Above 4/n Cook Distance'] = out_bool_4n\n",
    "\n",
    "        out_bool_3m = cooks_d[0] > globelfmc.loc[(globelfmc['Site name nospace']==site) & (globelfmc['Species collected nospace']==species), '3x mean Cook Distance']\n",
    "        globelfmc.loc[(globelfmc['Site name nospace']==site) & (globelfmc['Species collected nospace']==species), 'Above 3xMean Cook Distance'] = out_bool_3m\n",
    "\n",
    "\n"
   ]
  },
  {
   "cell_type": "code",
   "execution_count": null,
   "metadata": {},
   "outputs": [],
   "source": [
    "# if cook's distance infinite or nan, write NA\n",
    "\n",
    "condition = (globelfmc['Cook Distance']==np.inf) | (pd.isna(globelfmc['Cook Distance'])) | (globelfmc['Mean Cook Distance']==np.inf) | (pd.isna(globelfmc['Mean Cook Distance']))\n",
    "\n",
    "globelfmc.loc[condition, ['Cook Distance','Mean Cook Distance','3x mean Cook Distance','Above 4/n Cook Distance','Above 3xMean Cook Distance']] = 'NA' \n",
    "\n"
   ]
  },
  {
   "cell_type": "markdown",
   "metadata": {},
   "source": [
    "## Save output"
   ]
  },
  {
   "cell_type": "code",
   "execution_count": null,
   "metadata": {},
   "outputs": [],
   "source": [
    "globelfmc.to_excel('{}\\\\Globe-LFMC-2.0_outliers_CD.xlsx'.format(path_to_db_folder), index=False)"
   ]
  },
  {
   "cell_type": "code",
   "execution_count": null,
   "metadata": {},
   "outputs": [],
   "source": []
  }
 ],
 "metadata": {
  "language_info": {
   "name": "python"
  },
  "orig_nbformat": 4
 },
 "nbformat": 4,
 "nbformat_minor": 2
}
